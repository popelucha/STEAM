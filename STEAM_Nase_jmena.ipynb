{
  "nbformat": 4,
  "nbformat_minor": 0,
  "metadata": {
    "colab": {
      "provenance": [],
      "collapsed_sections": [
        "1k9NJex5Tapi"
      ],
      "authorship_tag": "ABX9TyMc9PeA74rWih1lknbqeS95",
      "include_colab_link": true
    },
    "kernelspec": {
      "name": "python3",
      "display_name": "Python 3"
    }
  },
  "cells": [
    {
      "cell_type": "markdown",
      "metadata": {
        "id": "view-in-github",
        "colab_type": "text"
      },
      "source": [
        "<a href=\"https://colab.research.google.com/github/popelucha/STEAM/blob/main/STEAM_Nase_jmena.ipynb\" target=\"_parent\"><img src=\"https://colab.research.google.com/assets/colab-badge.svg\" alt=\"Open In Colab\"/></a>"
      ]
    },
    {
      "cell_type": "markdown",
      "metadata": {
        "id": "1k9NJex5Tapi"
      },
      "source": [
        "# Naše jména\n",
        "Vezmeme databázi českých jmen a příjmení a budeme s nimi dělat různé legrácky.\n",
        "Data jsme převzali z webů:\n",
        "* http://www.simandl.asp2.cz/CetnostJmen.aspx\n",
        "* https://www.kalendar.wz.cz/cetnost.php\n",
        "Dříve se data vyskytovala na stránkách Ministerstva vnitra, později byla kvůli ochraně osobních údajů stažena.\n",
        "Data z webů jsme upravili tak, aby se s nimi snadno pracovalo."
      ]
    },
    {
      "cell_type": "code",
      "metadata": {
        "id": "f8LPemL7NrS7"
      },
      "source": [
        "!wget https://nlp.fi.muni.cz/~xpopelk/jmena/jmena_muzska.csv"
      ],
      "execution_count": null,
      "outputs": []
    },
    {
      "cell_type": "code",
      "source": [
        "!wget https://nlp.fi.muni.cz/~xpopelk/jmena/jmena_zenska.csv"
      ],
      "metadata": {
        "id": "yJcftxOuo8D3"
      },
      "execution_count": null,
      "outputs": []
    },
    {
      "cell_type": "code",
      "source": [
        "!wget https://nlp.fi.muni.cz/~xpopelk/jmena/prijmeni_muzska.csv"
      ],
      "metadata": {
        "id": "QnpaQhGnpDDa"
      },
      "execution_count": null,
      "outputs": []
    },
    {
      "cell_type": "code",
      "metadata": {
        "id": "zFss-ldGRG9T"
      },
      "source": [
        "import pprint\n",
        "import pandas as pd"
      ],
      "execution_count": null,
      "outputs": []
    },
    {
      "cell_type": "code",
      "source": [
        "jmena = pd.read_csv('jmena_muzska.csv', usecols=[1, 2], keep_default_na=False)"
      ],
      "metadata": {
        "id": "_GL4bhunpbVp"
      },
      "execution_count": null,
      "outputs": []
    },
    {
      "cell_type": "code",
      "source": [
        "prijmeni = pd.read_csv('prijmeni_muzska.csv', usecols=[1, 2], keep_default_na=False)"
      ],
      "metadata": {
        "id": "xxOP-KxvwDhK"
      },
      "execution_count": null,
      "outputs": []
    },
    {
      "cell_type": "markdown",
      "source": [
        "## Data\n",
        "V dalším kroku načteme data o jménech a příjmeních v ČR a počtu jejich výskytů.\n",
        "Tipni si:\n",
        "* kolik je v ČR různých mužských jmen?\n",
        "* kolik je v ČR různých ženských jmen?\n",
        "* kolik je v ČR různých příjmení? (bohužel, odpověď neznáme, protože naše data obsahují jen příjmení s pěti a více nositeli na území ČR)\n",
        "* které mužské jméno, ženské jméno a příjmení jsou nejčastější?\n",
        "* kolikáte v pořadí je tvoje vlastní jméno?\n",
        "\n",
        "TIP: pro načtení ženských jmen musíš změnit jméno souboru `jmena_muzska.csv` na `jmena_zenska.csv` v buňce nahoře"
      ],
      "metadata": {
        "id": "DRLRB8-g90oy"
      }
    },
    {
      "cell_type": "markdown",
      "metadata": {
        "id": "fBfxAjraVdoZ"
      },
      "source": [
        "## Jak to vypadá?\n",
        "Podíváme se na mužská jména, když ale změníš jméno souboru, dostaneš ženská jména.\n",
        "Pro ženská příjmení bohužel nemáme data. Dala by se získat z mužských příjmení použitím pravidel pro přechylování.\n",
        "Vypíšeme obsah proměnných `jmena` a `prijmeni`."
      ]
    },
    {
      "cell_type": "code",
      "source": [
        "jmena"
      ],
      "metadata": {
        "id": "odno3Ijh1nqx"
      },
      "execution_count": null,
      "outputs": []
    },
    {
      "cell_type": "code",
      "source": [
        "prijmeni"
      ],
      "metadata": {
        "id": "4glpcLdJ1pxg"
      },
      "execution_count": null,
      "outputs": []
    },
    {
      "cell_type": "markdown",
      "source": [
        "Práce s balíčkem pandas je docela jednoduchá. Pokud pracuješ s Excelem, je to ještě jednodušší. Pandas toho umí víc než Excel. Pandas také zvládne velké soubory dat. To je dobře vidět v předchozím výpisu. Pomocí `loc` a `iloc` lze v tabulce dobře hledat."
      ],
      "metadata": {
        "id": "VdifINrf1Kdq"
      }
    },
    {
      "cell_type": "code",
      "source": [
        "jmena.loc[jmena.name=='Pavel'] # vidíme, že Pavlů je v ČR 207100 a je to třetí nejčastější mužské křestní jméno"
      ],
      "metadata": {
        "id": "t0h1kZAe14M7"
      },
      "execution_count": null,
      "outputs": []
    },
    {
      "cell_type": "markdown",
      "metadata": {
        "id": "aOQOmoGrVokr"
      },
      "source": [
        "## Složitější hledání\n",
        "### Co se rýmuje?\n",
        "V proměnné `rymuj` je vzor toho, jak by měla jména vypadat. Můžeš změnit tak, aby jméno končilo stejně jako tvoje.\n",
        "\n",
        "Speciální znaky:\n",
        "* `.` cokoli: `D.n` = Dan, Don, Den, Drn, ...\n",
        "* `*` opakuj předchozí 0 až nekonečně: `An*a` = Ana, Anna, Annna, Aa, ...\n",
        "* `^` začátek textu: `^Marie` = Marie, Marieta, Marie-Linda, ...\n",
        "* `$` konec textu: `.*el$` = Karel, Pavel, Daniel, Marcel\n",
        "* `[` a `]` alternativa - platí jedno z toho, co je v závorce: `Kr[iy]stian` = Kristian, Krystian\n",
        "* `?` opakuj předchozí 0 nebo 1: `Nikolas?` = Nikola, Nikolas"
      ]
    },
    {
      "cell_type": "code",
      "metadata": {
        "id": "Hjr4z5c5SThf"
      },
      "source": [
        "rymuj = r'.*dan$'\n",
        "jmena.loc[jmena.name.str.match(rymuj, case=False)]"
      ],
      "execution_count": null,
      "outputs": []
    },
    {
      "cell_type": "markdown",
      "metadata": {
        "id": "PL2mKyJFaGLQ"
      },
      "source": [
        "### Příjmení, se kterým nevycestuješ\n",
        "Najdeme příjmení, které obsahuje (nejmíň) čtyři písmena č, ř, š, ž, ť, ď nebo ň."
      ]
    },
    {
      "cell_type": "code",
      "metadata": {
        "id": "cdXCadIXXNeR"
      },
      "source": [
        "hacky = r'.*[čřžšďťň].*[čřžšďťň].*[čřžšďťň].*[čřžšďťň].*'\n",
        "prijmeni.loc[prijmeni.name.str.match(hacky, case=False)]"
      ],
      "execution_count": null,
      "outputs": []
    },
    {
      "cell_type": "markdown",
      "metadata": {
        "id": "Zk-Bq4_EaW62"
      },
      "source": [
        "## Jména postav do knihy\n",
        "\n",
        "Jak hledají spisovatelé jména pro svoje postavy?"
      ]
    },
    {
      "cell_type": "code",
      "metadata": {
        "id": "ej60hFIkaVoh"
      },
      "source": [
        "jmena.sample().name.values[0] + ' ' + prijmeni.sample().name.values[0]"
      ],
      "execution_count": null,
      "outputs": []
    },
    {
      "cell_type": "markdown",
      "metadata": {
        "id": "DscHX-22bdkH"
      },
      "source": [
        "Ok. Takhle se přece nikdo nejmenuje. Někoho obyčejnějšího tam nemáte?\n",
        "Jo, máme. Můžeme funkci `sample` dát jako váhy právě četnosti jmen. Výsledkem bude, že Jakub nebo Michal se zvolí s větší pravděpodností než Godfried nebo Jorge."
      ]
    },
    {
      "cell_type": "code",
      "metadata": {
        "id": "K7RPSPiSbDND"
      },
      "source": [
        "jmena.sample(weights=jmena.freq).name.values[0] + ' ' + prijmeni.sample(weights=prijmeni.freq).name.values[0]"
      ],
      "execution_count": null,
      "outputs": []
    },
    {
      "cell_type": "markdown",
      "metadata": {
        "id": "MEsO_xeibQft"
      },
      "source": [
        "### Vymeň první písmena\n",
        "U svého jména už to asi zkusil každý. Zkusme to u naší literární postavy."
      ]
    },
    {
      "cell_type": "code",
      "metadata": {
        "id": "E63xzOBQci-Y"
      },
      "source": [
        "nahodne_jmeno = jmena.sample(weights=jmena.freq).name.values[0]\n",
        "nahodne_prijmeni = prijmeni.sample(weights=prijmeni.freq).name.values[0]\n",
        "vymenene_jmeno = nahodne_prijmeni[0] + nahodne_jmeno[1:] + ' ' + nahodne_jmeno[0] + nahodne_prijmeni[1:]\n",
        "print('''\n",
        "Kapitola první\n",
        "\n",
        "Jmenuji se {nahodne_jmeno} a jsem docela obyčejný člověk.\n",
        "Chodím do školy. Tak jako většina lidí mého věku. Ale spokojený s tím nejsem.\n",
        "Všechno začalo tím, že se mi posmívali za jméno.\n",
        "Na jménu {nahodne_jmeno} není nic špatného, a proto - aby na něm něco špatného bylo -\n",
        "začali mi vyměňovat první písmena. {vymenene_jmeno}. Ohromně se tím bavili.\n",
        "  '''.format(nahodne_jmeno = nahodne_jmeno+' '+nahodne_prijmeni, vymenene_jmeno = vymenene_jmeno)\n",
        ")"
      ],
      "execution_count": null,
      "outputs": []
    },
    {
      "cell_type": "markdown",
      "metadata": {
        "id": "nBxCFg7OdjOj"
      },
      "source": [
        "## Statistika nuda je\n",
        "Můžeme se podívat, která jména jsou nejčetnější. Nebo taky nejexotičtější.\n",
        "Měň hodnoty v `sort_values` a podívej se na tabulku."
      ]
    },
    {
      "cell_type": "code",
      "metadata": {
        "id": "RO-CVEhddigC"
      },
      "source": [
        "jmena.sort_values(by=['freq'], ascending=False)[:10]"
      ],
      "execution_count": null,
      "outputs": []
    },
    {
      "cell_type": "markdown",
      "metadata": {
        "id": "TwK-ETXff1NU"
      },
      "source": [
        "Dají se hledat i jiné podivnosti. Třeba na jaká písmena naše jména nejčastěji končí."
      ]
    },
    {
      "cell_type": "code",
      "metadata": {
        "id": "xWM8aQnuenba"
      },
      "source": [
        "jmena.groupby(jmena.name.str[-1]).count().sort_values(by='freq', ascending=False)"
      ],
      "execution_count": null,
      "outputs": []
    },
    {
      "cell_type": "code",
      "metadata": {
        "id": "2GpZhiz2fLBa"
      },
      "source": [
        "jmena.loc[jmena.name.str[-3:]=='mbo'] # jmena koncici na -mbo"
      ],
      "execution_count": null,
      "outputs": []
    },
    {
      "cell_type": "code",
      "metadata": {
        "id": "B2V7oEu293QG"
      },
      "source": [
        "prijmeni.groupby(prijmeni.name.str.len()).count() # prijmeni podle delky"
      ],
      "execution_count": null,
      "outputs": []
    },
    {
      "cell_type": "code",
      "metadata": {
        "id": "s-H65b1E-3Yg"
      },
      "source": [
        "prijmeni.loc[prijmeni.name.str.len()==3] # tripismenna prijmeni"
      ],
      "execution_count": null,
      "outputs": []
    },
    {
      "cell_type": "markdown",
      "source": [
        "## Vizualizace četnosti"
      ],
      "metadata": {
        "id": "OvY4ED7CFh3k"
      }
    },
    {
      "cell_type": "code",
      "source": [
        "ax = jmena.sort_values(by='freq', ascending=False).plot.line()\n",
        "ax.get_xaxis().set_visible(False)"
      ],
      "metadata": {
        "id": "i-7DqERRFlAQ"
      },
      "execution_count": null,
      "outputs": []
    },
    {
      "cell_type": "markdown",
      "source": [
        "Křivka, která vypadá jako písmeno L ukazuje rozdělení (rozložení, distribuci) jmen v populaci. Znamená, že velká část lidí má velmi frekventovaná jména a menší část lidí má jména, která jsou velmi vzácná. Klidně jsou jediní nositelé svého jména v celé ČR."
      ],
      "metadata": {
        "id": "0DiHzLIlG7_v"
      }
    },
    {
      "cell_type": "code",
      "source": [
        "pocet_jmen = len(jmena)\n",
        "unikatni_jmena = jmena.loc[jmena.freq==1, 'freq'].count()\n",
        "podil_unikatnich_jmen = round(unikatni_jmena/pocet_jmen*100,2)\n",
        "neunikatni_jmena = jmena.loc[jmena.freq>1, 'freq'].count()\n",
        "soucet_neunikatnich_jmen = jmena.loc[jmena.freq>1, 'freq'].sum()\n",
        "print(\"\"\"\n",
        "V ČR je celkem {} různých mužských jmen.\n",
        "Z tohoto počtu je {} % jmen ({} lidí), které má jen jeden člověk v celé zemi.\n",
        "{} jmen má v ČR víc než jednoho nositele.\n",
        "Celkem je v ČR {} lidí, které mají aspoň jednoho jmenovce.\n",
        "\"\"\".format(pocet_jmen, podil_unikatnich_jmen, unikatni_jmena, neunikatni_jmena, soucet_neunikatnich_jmen))"
      ],
      "metadata": {
        "id": "9IiMU8_EHOi7"
      },
      "execution_count": null,
      "outputs": []
    }
  ]
}